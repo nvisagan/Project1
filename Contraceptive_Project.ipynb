{
  "nbformat": 4,
  "nbformat_minor": 0,
  "metadata": {
    "colab": {
      "name": "Contraceptive Project.ipynb",
      "version": "0.3.2",
      "provenance": [],
      "toc_visible": true,
      "include_colab_link": true
    },
    "kernelspec": {
      "name": "python3",
      "display_name": "Python 3"
    }
  },
  "cells": [
    {
      "cell_type": "markdown",
      "metadata": {
        "id": "view-in-github",
        "colab_type": "text"
      },
      "source": [
        "<a href=\"https://colab.research.google.com/github/nvisagan/Project1/blob/master/Contraceptive_Project.ipynb\" target=\"_parent\"><img src=\"https://colab.research.google.com/assets/colab-badge.svg\" alt=\"Open In Colab\"/></a>"
      ]
    },
    {
      "cell_type": "markdown",
      "metadata": {
        "id": "s7ig_raVPr7n",
        "colab_type": "text"
      },
      "source": [
        "# Delivarables\n",
        "1. Blog post\n",
        "Required\n",
        "\n",
        "Choose your own topic and data.\n",
        "Write a blog post with at least two data visualizations, to communicate insights on your topic.\n",
        "Publish your post on Medium or your portfolio site.\n",
        "Don’t use data from Kaggle competitions or popular “toy” datasets.\n",
        "\n",
        "2. Code\n",
        "Required\n",
        "\n",
        "Create Python notebook(s) to wrangle, analyze, and visualize your data.\n",
        "Push your notebook(s) to your GitHub.\n",
        "Recommended\n",
        "\n",
        "Keep it simple. Don’t use machine learning. (You’ll do this in future projects!)\n",
        "\n",
        "3. Short summary\n",
        "Required\n",
        "\n",
        "Describe your project in 280 characters or less.\n",
        "Choose one data visualization (static image or animated gif) from your blog post.\n",
        "Annotate your visualization so it’s understandable on its own, without reading your blog post.\n",
        "Recommended\n",
        "\n",
        "Share your short project summary on Twitter or LinkedIn, and link to your blog post.\n",
        "\n",
        "4. Portfolio\n",
        "Required\n",
        "\n",
        "Add your short summary to your portfolio site.\n",
        "Link from your portfolio site to your blog post and code.\n",
        "Recommended\n",
        "\n",
        "Host your site with GitHub Pages.\n",
        "Include your name, bio, and contact info on your site."
      ]
    },
    {
      "cell_type": "code",
      "metadata": {
        "id": "Za1m-kdvRR8e",
        "colab_type": "code",
        "colab": {}
      },
      "source": [
        "import pandas as pd\n",
        "import matplotlib.pyplot as plt\n",
        "import seaborn as sns \n",
        "import matplotlib.style as style"
      ],
      "execution_count": 0,
      "outputs": []
    },
    {
      "cell_type": "code",
      "metadata": {
        "id": "dh8XBcvqPkU9",
        "colab_type": "code",
        "outputId": "8c1cf3e5-b7e8-4e34-dbcc-c9a3409b6aa6",
        "colab": {
          "base_uri": "https://localhost:8080/",
          "height": 241
        }
      },
      "source": [
        "# Load Data \n",
        "url = \"https://archive.ics.uci.edu/ml/machine-learning-databases/cmc/cmc.data\"\n",
        "\n",
        "#Header need to be fixed \n",
        "column_headers = [\"Wife's_age\", \"Wife's_education\",\n",
        "                  \"Husband's_education\", \"Number_of_children_ever_born\",\n",
        "                  \"Wife's_religion\", \"Wife's_now_working?\",\n",
        "                  \"Husband's_occupation\",\"Standard_of_living index\", \n",
        "                  \"Media_exposure\",\"Contraceptive_method_used\",\n",
        "                  \"Missing_Attribute_Values\"                 \n",
        "]\n",
        "\n",
        "contradf = pd.read_csv(url, names=column_headers)\n",
        "contradf.head()"
      ],
      "execution_count": 0,
      "outputs": [
        {
          "output_type": "execute_result",
          "data": {
            "text/html": [
              "<div>\n",
              "<style scoped>\n",
              "    .dataframe tbody tr th:only-of-type {\n",
              "        vertical-align: middle;\n",
              "    }\n",
              "\n",
              "    .dataframe tbody tr th {\n",
              "        vertical-align: top;\n",
              "    }\n",
              "\n",
              "    .dataframe thead th {\n",
              "        text-align: right;\n",
              "    }\n",
              "</style>\n",
              "<table border=\"1\" class=\"dataframe\">\n",
              "  <thead>\n",
              "    <tr style=\"text-align: right;\">\n",
              "      <th></th>\n",
              "      <th>Wife's_age</th>\n",
              "      <th>Wife's_education</th>\n",
              "      <th>Husband's_education</th>\n",
              "      <th>Number_of_children_ever_born</th>\n",
              "      <th>Wife's_religion</th>\n",
              "      <th>Wife's_now_working?</th>\n",
              "      <th>Husband's_occupation</th>\n",
              "      <th>Standard_of_living index</th>\n",
              "      <th>Media_exposure</th>\n",
              "      <th>Contraceptive_method_used</th>\n",
              "      <th>Missing_Attribute_Values</th>\n",
              "    </tr>\n",
              "  </thead>\n",
              "  <tbody>\n",
              "    <tr>\n",
              "      <th>0</th>\n",
              "      <td>24</td>\n",
              "      <td>2</td>\n",
              "      <td>3</td>\n",
              "      <td>3</td>\n",
              "      <td>1</td>\n",
              "      <td>1</td>\n",
              "      <td>2</td>\n",
              "      <td>3</td>\n",
              "      <td>0</td>\n",
              "      <td>1</td>\n",
              "      <td>NaN</td>\n",
              "    </tr>\n",
              "    <tr>\n",
              "      <th>1</th>\n",
              "      <td>45</td>\n",
              "      <td>1</td>\n",
              "      <td>3</td>\n",
              "      <td>10</td>\n",
              "      <td>1</td>\n",
              "      <td>1</td>\n",
              "      <td>3</td>\n",
              "      <td>4</td>\n",
              "      <td>0</td>\n",
              "      <td>1</td>\n",
              "      <td>NaN</td>\n",
              "    </tr>\n",
              "    <tr>\n",
              "      <th>2</th>\n",
              "      <td>43</td>\n",
              "      <td>2</td>\n",
              "      <td>3</td>\n",
              "      <td>7</td>\n",
              "      <td>1</td>\n",
              "      <td>1</td>\n",
              "      <td>3</td>\n",
              "      <td>4</td>\n",
              "      <td>0</td>\n",
              "      <td>1</td>\n",
              "      <td>NaN</td>\n",
              "    </tr>\n",
              "    <tr>\n",
              "      <th>3</th>\n",
              "      <td>42</td>\n",
              "      <td>3</td>\n",
              "      <td>2</td>\n",
              "      <td>9</td>\n",
              "      <td>1</td>\n",
              "      <td>1</td>\n",
              "      <td>3</td>\n",
              "      <td>3</td>\n",
              "      <td>0</td>\n",
              "      <td>1</td>\n",
              "      <td>NaN</td>\n",
              "    </tr>\n",
              "    <tr>\n",
              "      <th>4</th>\n",
              "      <td>36</td>\n",
              "      <td>3</td>\n",
              "      <td>3</td>\n",
              "      <td>8</td>\n",
              "      <td>1</td>\n",
              "      <td>1</td>\n",
              "      <td>3</td>\n",
              "      <td>2</td>\n",
              "      <td>0</td>\n",
              "      <td>1</td>\n",
              "      <td>NaN</td>\n",
              "    </tr>\n",
              "  </tbody>\n",
              "</table>\n",
              "</div>"
            ],
            "text/plain": [
              "   Wife's_age  ...  Missing_Attribute_Values\n",
              "0          24  ...                       NaN\n",
              "1          45  ...                       NaN\n",
              "2          43  ...                       NaN\n",
              "3          42  ...                       NaN\n",
              "4          36  ...                       NaN\n",
              "\n",
              "[5 rows x 11 columns]"
            ]
          },
          "metadata": {
            "tags": []
          },
          "execution_count": 2
        }
      ]
    },
    {
      "cell_type": "code",
      "metadata": {
        "id": "0ikosXvGTajz",
        "colab_type": "code",
        "outputId": "1484eee1-8813-4265-cf23-336973948d48",
        "colab": {
          "base_uri": "https://localhost:8080/",
          "height": 334
        }
      },
      "source": [
        "contradf.describe()"
      ],
      "execution_count": 0,
      "outputs": [
        {
          "output_type": "execute_result",
          "data": {
            "text/html": [
              "<div>\n",
              "<style scoped>\n",
              "    .dataframe tbody tr th:only-of-type {\n",
              "        vertical-align: middle;\n",
              "    }\n",
              "\n",
              "    .dataframe tbody tr th {\n",
              "        vertical-align: top;\n",
              "    }\n",
              "\n",
              "    .dataframe thead th {\n",
              "        text-align: right;\n",
              "    }\n",
              "</style>\n",
              "<table border=\"1\" class=\"dataframe\">\n",
              "  <thead>\n",
              "    <tr style=\"text-align: right;\">\n",
              "      <th></th>\n",
              "      <th>Wife's_age</th>\n",
              "      <th>Wife's_education</th>\n",
              "      <th>Husband's_education</th>\n",
              "      <th>Number_of_children_ever_born</th>\n",
              "      <th>Wife's_religion</th>\n",
              "      <th>Wife's_now_working?</th>\n",
              "      <th>Husband's_occupation</th>\n",
              "      <th>Standard_of_living index</th>\n",
              "      <th>Media_exposure</th>\n",
              "      <th>Contraceptive_method_used</th>\n",
              "      <th>Missing_Attribute_Values</th>\n",
              "    </tr>\n",
              "  </thead>\n",
              "  <tbody>\n",
              "    <tr>\n",
              "      <th>count</th>\n",
              "      <td>1473.000000</td>\n",
              "      <td>1473.000000</td>\n",
              "      <td>1473.000000</td>\n",
              "      <td>1473.000000</td>\n",
              "      <td>1473.000000</td>\n",
              "      <td>1473.000000</td>\n",
              "      <td>1473.000000</td>\n",
              "      <td>1473.000000</td>\n",
              "      <td>1473.000000</td>\n",
              "      <td>1473.000000</td>\n",
              "      <td>0.0</td>\n",
              "    </tr>\n",
              "    <tr>\n",
              "      <th>mean</th>\n",
              "      <td>32.538357</td>\n",
              "      <td>2.958588</td>\n",
              "      <td>3.429735</td>\n",
              "      <td>3.261371</td>\n",
              "      <td>0.850645</td>\n",
              "      <td>0.749491</td>\n",
              "      <td>2.137814</td>\n",
              "      <td>3.133741</td>\n",
              "      <td>0.073999</td>\n",
              "      <td>1.919891</td>\n",
              "      <td>NaN</td>\n",
              "    </tr>\n",
              "    <tr>\n",
              "      <th>std</th>\n",
              "      <td>8.227245</td>\n",
              "      <td>1.014994</td>\n",
              "      <td>0.816349</td>\n",
              "      <td>2.358549</td>\n",
              "      <td>0.356559</td>\n",
              "      <td>0.433453</td>\n",
              "      <td>0.864857</td>\n",
              "      <td>0.976161</td>\n",
              "      <td>0.261858</td>\n",
              "      <td>0.876376</td>\n",
              "      <td>NaN</td>\n",
              "    </tr>\n",
              "    <tr>\n",
              "      <th>min</th>\n",
              "      <td>16.000000</td>\n",
              "      <td>1.000000</td>\n",
              "      <td>1.000000</td>\n",
              "      <td>0.000000</td>\n",
              "      <td>0.000000</td>\n",
              "      <td>0.000000</td>\n",
              "      <td>1.000000</td>\n",
              "      <td>1.000000</td>\n",
              "      <td>0.000000</td>\n",
              "      <td>1.000000</td>\n",
              "      <td>NaN</td>\n",
              "    </tr>\n",
              "    <tr>\n",
              "      <th>25%</th>\n",
              "      <td>26.000000</td>\n",
              "      <td>2.000000</td>\n",
              "      <td>3.000000</td>\n",
              "      <td>1.000000</td>\n",
              "      <td>1.000000</td>\n",
              "      <td>0.000000</td>\n",
              "      <td>1.000000</td>\n",
              "      <td>3.000000</td>\n",
              "      <td>0.000000</td>\n",
              "      <td>1.000000</td>\n",
              "      <td>NaN</td>\n",
              "    </tr>\n",
              "    <tr>\n",
              "      <th>50%</th>\n",
              "      <td>32.000000</td>\n",
              "      <td>3.000000</td>\n",
              "      <td>4.000000</td>\n",
              "      <td>3.000000</td>\n",
              "      <td>1.000000</td>\n",
              "      <td>1.000000</td>\n",
              "      <td>2.000000</td>\n",
              "      <td>3.000000</td>\n",
              "      <td>0.000000</td>\n",
              "      <td>2.000000</td>\n",
              "      <td>NaN</td>\n",
              "    </tr>\n",
              "    <tr>\n",
              "      <th>75%</th>\n",
              "      <td>39.000000</td>\n",
              "      <td>4.000000</td>\n",
              "      <td>4.000000</td>\n",
              "      <td>4.000000</td>\n",
              "      <td>1.000000</td>\n",
              "      <td>1.000000</td>\n",
              "      <td>3.000000</td>\n",
              "      <td>4.000000</td>\n",
              "      <td>0.000000</td>\n",
              "      <td>3.000000</td>\n",
              "      <td>NaN</td>\n",
              "    </tr>\n",
              "    <tr>\n",
              "      <th>max</th>\n",
              "      <td>49.000000</td>\n",
              "      <td>4.000000</td>\n",
              "      <td>4.000000</td>\n",
              "      <td>16.000000</td>\n",
              "      <td>1.000000</td>\n",
              "      <td>1.000000</td>\n",
              "      <td>4.000000</td>\n",
              "      <td>4.000000</td>\n",
              "      <td>1.000000</td>\n",
              "      <td>3.000000</td>\n",
              "      <td>NaN</td>\n",
              "    </tr>\n",
              "  </tbody>\n",
              "</table>\n",
              "</div>"
            ],
            "text/plain": [
              "        Wife's_age  ...  Missing_Attribute_Values\n",
              "count  1473.000000  ...                       0.0\n",
              "mean     32.538357  ...                       NaN\n",
              "std       8.227245  ...                       NaN\n",
              "min      16.000000  ...                       NaN\n",
              "25%      26.000000  ...                       NaN\n",
              "50%      32.000000  ...                       NaN\n",
              "75%      39.000000  ...                       NaN\n",
              "max      49.000000  ...                       NaN\n",
              "\n",
              "[8 rows x 11 columns]"
            ]
          },
          "metadata": {
            "tags": []
          },
          "execution_count": 3
        }
      ]
    },
    {
      "cell_type": "code",
      "metadata": {
        "id": "LEEiEuh4iRTh",
        "colab_type": "code",
        "outputId": "5ea23430-31d0-4336-f9bb-b09422fa6f5e",
        "colab": {
          "base_uri": "https://localhost:8080/",
          "height": 204
        }
      },
      "source": [
        "cleaned = contradf.drop([\"Wife's_age\", \"Wife's_education\",\n",
        "                  \"Husband's_education\",\"Wife's_religion\", \n",
        "                  \"Husband's_occupation\",\"Standard_of_living index\", \n",
        "                  \"Media_exposure\", \"Missing_Attribute_Values\"], axis=1)\n",
        "\n",
        "cleaned.tail()"
      ],
      "execution_count": 0,
      "outputs": [
        {
          "output_type": "execute_result",
          "data": {
            "text/html": [
              "<div>\n",
              "<style scoped>\n",
              "    .dataframe tbody tr th:only-of-type {\n",
              "        vertical-align: middle;\n",
              "    }\n",
              "\n",
              "    .dataframe tbody tr th {\n",
              "        vertical-align: top;\n",
              "    }\n",
              "\n",
              "    .dataframe thead th {\n",
              "        text-align: right;\n",
              "    }\n",
              "</style>\n",
              "<table border=\"1\" class=\"dataframe\">\n",
              "  <thead>\n",
              "    <tr style=\"text-align: right;\">\n",
              "      <th></th>\n",
              "      <th>Number_of_children_ever_born</th>\n",
              "      <th>Wife's_now_working?</th>\n",
              "      <th>Contraceptive_method_used</th>\n",
              "    </tr>\n",
              "  </thead>\n",
              "  <tbody>\n",
              "    <tr>\n",
              "      <th>1468</th>\n",
              "      <td>2</td>\n",
              "      <td>0</td>\n",
              "      <td>3</td>\n",
              "    </tr>\n",
              "    <tr>\n",
              "      <th>1469</th>\n",
              "      <td>3</td>\n",
              "      <td>1</td>\n",
              "      <td>3</td>\n",
              "    </tr>\n",
              "    <tr>\n",
              "      <th>1470</th>\n",
              "      <td>8</td>\n",
              "      <td>0</td>\n",
              "      <td>3</td>\n",
              "    </tr>\n",
              "    <tr>\n",
              "      <th>1471</th>\n",
              "      <td>4</td>\n",
              "      <td>0</td>\n",
              "      <td>3</td>\n",
              "    </tr>\n",
              "    <tr>\n",
              "      <th>1472</th>\n",
              "      <td>1</td>\n",
              "      <td>1</td>\n",
              "      <td>3</td>\n",
              "    </tr>\n",
              "  </tbody>\n",
              "</table>\n",
              "</div>"
            ],
            "text/plain": [
              "      Number_of_children_ever_born  ...  Contraceptive_method_used\n",
              "1468                             2  ...                          3\n",
              "1469                             3  ...                          3\n",
              "1470                             8  ...                          3\n",
              "1471                             4  ...                          3\n",
              "1472                             1  ...                          3\n",
              "\n",
              "[5 rows x 3 columns]"
            ]
          },
          "metadata": {
            "tags": []
          },
          "execution_count": 4
        }
      ]
    },
    {
      "cell_type": "code",
      "metadata": {
        "id": "hgqgjtYFkJXA",
        "colab_type": "code",
        "outputId": "e76b845b-22c0-4a21-ca6a-c19535d6c288",
        "colab": {
          "base_uri": "https://localhost:8080/",
          "height": 297
        }
      },
      "source": [
        "# Working with Contraceptive One use \n",
        "\n",
        "wcOne = contradf[(contradf[\"Contraceptive_method_used\"] == 1)]\n",
        "\n",
        "\n",
        "#Drop the other except the work and # of children\n",
        "wcOne = wcOne.drop([\"Wife's_education\",\n",
        "                  \"Husband's_education\", \"Wife's_religion\", \"Wife's_now_working?\",\n",
        "                  \"Husband's_occupation\",\"Standard_of_living index\", \n",
        "                  \"Media_exposure\",\"Missing_Attribute_Values\"], axis=1)\n",
        "wcOne.describe()"
      ],
      "execution_count": 0,
      "outputs": [
        {
          "output_type": "execute_result",
          "data": {
            "text/html": [
              "<div>\n",
              "<style scoped>\n",
              "    .dataframe tbody tr th:only-of-type {\n",
              "        vertical-align: middle;\n",
              "    }\n",
              "\n",
              "    .dataframe tbody tr th {\n",
              "        vertical-align: top;\n",
              "    }\n",
              "\n",
              "    .dataframe thead th {\n",
              "        text-align: right;\n",
              "    }\n",
              "</style>\n",
              "<table border=\"1\" class=\"dataframe\">\n",
              "  <thead>\n",
              "    <tr style=\"text-align: right;\">\n",
              "      <th></th>\n",
              "      <th>Wife's_age</th>\n",
              "      <th>Number_of_children_ever_born</th>\n",
              "      <th>Contraceptive_method_used</th>\n",
              "    </tr>\n",
              "  </thead>\n",
              "  <tbody>\n",
              "    <tr>\n",
              "      <th>count</th>\n",
              "      <td>629.000000</td>\n",
              "      <td>629.000000</td>\n",
              "      <td>629.0</td>\n",
              "    </tr>\n",
              "    <tr>\n",
              "      <th>mean</th>\n",
              "      <td>33.424483</td>\n",
              "      <td>2.934817</td>\n",
              "      <td>1.0</td>\n",
              "    </tr>\n",
              "    <tr>\n",
              "      <th>std</th>\n",
              "      <td>9.123853</td>\n",
              "      <td>2.655462</td>\n",
              "      <td>0.0</td>\n",
              "    </tr>\n",
              "    <tr>\n",
              "      <th>min</th>\n",
              "      <td>16.000000</td>\n",
              "      <td>0.000000</td>\n",
              "      <td>1.0</td>\n",
              "    </tr>\n",
              "    <tr>\n",
              "      <th>25%</th>\n",
              "      <td>25.000000</td>\n",
              "      <td>1.000000</td>\n",
              "      <td>1.0</td>\n",
              "    </tr>\n",
              "    <tr>\n",
              "      <th>50%</th>\n",
              "      <td>32.000000</td>\n",
              "      <td>2.000000</td>\n",
              "      <td>1.0</td>\n",
              "    </tr>\n",
              "    <tr>\n",
              "      <th>75%</th>\n",
              "      <td>42.000000</td>\n",
              "      <td>4.000000</td>\n",
              "      <td>1.0</td>\n",
              "    </tr>\n",
              "    <tr>\n",
              "      <th>max</th>\n",
              "      <td>49.000000</td>\n",
              "      <td>12.000000</td>\n",
              "      <td>1.0</td>\n",
              "    </tr>\n",
              "  </tbody>\n",
              "</table>\n",
              "</div>"
            ],
            "text/plain": [
              "       Wife's_age  Number_of_children_ever_born  Contraceptive_method_used\n",
              "count  629.000000                    629.000000                      629.0\n",
              "mean    33.424483                      2.934817                        1.0\n",
              "std      9.123853                      2.655462                        0.0\n",
              "min     16.000000                      0.000000                        1.0\n",
              "25%     25.000000                      1.000000                        1.0\n",
              "50%     32.000000                      2.000000                        1.0\n",
              "75%     42.000000                      4.000000                        1.0\n",
              "max     49.000000                     12.000000                        1.0"
            ]
          },
          "metadata": {
            "tags": []
          },
          "execution_count": 5
        }
      ]
    },
    {
      "cell_type": "code",
      "metadata": {
        "id": "aPr5dKi0pXZ6",
        "colab_type": "code",
        "outputId": "a0bff78c-0282-4cbe-c665-2bb99316750e",
        "colab": {
          "base_uri": "https://localhost:8080/",
          "height": 297
        }
      },
      "source": [
        "# Contraceptive 2 \n",
        "wcTwo = contradf[(contradf[\"Contraceptive_method_used\"] == 2)]\n",
        "\n",
        "# Drop unwanted columns\n",
        "\n",
        "wcTwo = wcTwo.drop([\"Wife's_education\",\n",
        "                  \"Husband's_education\", \"Wife's_religion\", \"Wife's_now_working?\",\n",
        "                  \"Husband's_occupation\",\"Standard_of_living index\", \n",
        "                  \"Media_exposure\",\"Missing_Attribute_Values\"], axis=1)\n",
        "\n",
        "wcTwo.describe()"
      ],
      "execution_count": 0,
      "outputs": [
        {
          "output_type": "execute_result",
          "data": {
            "text/html": [
              "<div>\n",
              "<style scoped>\n",
              "    .dataframe tbody tr th:only-of-type {\n",
              "        vertical-align: middle;\n",
              "    }\n",
              "\n",
              "    .dataframe tbody tr th {\n",
              "        vertical-align: top;\n",
              "    }\n",
              "\n",
              "    .dataframe thead th {\n",
              "        text-align: right;\n",
              "    }\n",
              "</style>\n",
              "<table border=\"1\" class=\"dataframe\">\n",
              "  <thead>\n",
              "    <tr style=\"text-align: right;\">\n",
              "      <th></th>\n",
              "      <th>Wife's_age</th>\n",
              "      <th>Number_of_children_ever_born</th>\n",
              "      <th>Contraceptive_method_used</th>\n",
              "    </tr>\n",
              "  </thead>\n",
              "  <tbody>\n",
              "    <tr>\n",
              "      <th>count</th>\n",
              "      <td>333.000000</td>\n",
              "      <td>333.000000</td>\n",
              "      <td>333.0</td>\n",
              "    </tr>\n",
              "    <tr>\n",
              "      <th>mean</th>\n",
              "      <td>34.384384</td>\n",
              "      <td>3.738739</td>\n",
              "      <td>2.0</td>\n",
              "    </tr>\n",
              "    <tr>\n",
              "      <th>std</th>\n",
              "      <td>7.454844</td>\n",
              "      <td>2.104406</td>\n",
              "      <td>0.0</td>\n",
              "    </tr>\n",
              "    <tr>\n",
              "      <th>min</th>\n",
              "      <td>17.000000</td>\n",
              "      <td>1.000000</td>\n",
              "      <td>2.0</td>\n",
              "    </tr>\n",
              "    <tr>\n",
              "      <th>25%</th>\n",
              "      <td>28.000000</td>\n",
              "      <td>2.000000</td>\n",
              "      <td>2.0</td>\n",
              "    </tr>\n",
              "    <tr>\n",
              "      <th>50%</th>\n",
              "      <td>35.000000</td>\n",
              "      <td>3.000000</td>\n",
              "      <td>2.0</td>\n",
              "    </tr>\n",
              "    <tr>\n",
              "      <th>75%</th>\n",
              "      <td>41.000000</td>\n",
              "      <td>5.000000</td>\n",
              "      <td>2.0</td>\n",
              "    </tr>\n",
              "    <tr>\n",
              "      <th>max</th>\n",
              "      <td>49.000000</td>\n",
              "      <td>13.000000</td>\n",
              "      <td>2.0</td>\n",
              "    </tr>\n",
              "  </tbody>\n",
              "</table>\n",
              "</div>"
            ],
            "text/plain": [
              "       Wife's_age  Number_of_children_ever_born  Contraceptive_method_used\n",
              "count  333.000000                    333.000000                      333.0\n",
              "mean    34.384384                      3.738739                        2.0\n",
              "std      7.454844                      2.104406                        0.0\n",
              "min     17.000000                      1.000000                        2.0\n",
              "25%     28.000000                      2.000000                        2.0\n",
              "50%     35.000000                      3.000000                        2.0\n",
              "75%     41.000000                      5.000000                        2.0\n",
              "max     49.000000                     13.000000                        2.0"
            ]
          },
          "metadata": {
            "tags": []
          },
          "execution_count": 6
        }
      ]
    },
    {
      "cell_type": "code",
      "metadata": {
        "id": "Wd0bg3S8piNC",
        "colab_type": "code",
        "outputId": "70048069-1422-4a6f-86bd-e7f4751894fd",
        "colab": {
          "base_uri": "https://localhost:8080/",
          "height": 297
        }
      },
      "source": [
        "#Contra three \n",
        "wcThree = contradf[(contradf[\"Contraceptive_method_used\"] == 3)]\n",
        "\n",
        "#Same Drop\n",
        "wcThree = wcThree.drop([\"Wife's_education\",\n",
        "                  \"Husband's_education\", \"Wife's_religion\", \"Wife's_now_working?\",\n",
        "                  \"Husband's_occupation\",\"Standard_of_living index\", \n",
        "                  \"Media_exposure\",\"Missing_Attribute_Values\"], axis=1)\n",
        "\n",
        "wcThree.describe()"
      ],
      "execution_count": 0,
      "outputs": [
        {
          "output_type": "execute_result",
          "data": {
            "text/html": [
              "<div>\n",
              "<style scoped>\n",
              "    .dataframe tbody tr th:only-of-type {\n",
              "        vertical-align: middle;\n",
              "    }\n",
              "\n",
              "    .dataframe tbody tr th {\n",
              "        vertical-align: top;\n",
              "    }\n",
              "\n",
              "    .dataframe thead th {\n",
              "        text-align: right;\n",
              "    }\n",
              "</style>\n",
              "<table border=\"1\" class=\"dataframe\">\n",
              "  <thead>\n",
              "    <tr style=\"text-align: right;\">\n",
              "      <th></th>\n",
              "      <th>Wife's_age</th>\n",
              "      <th>Number_of_children_ever_born</th>\n",
              "      <th>Contraceptive_method_used</th>\n",
              "    </tr>\n",
              "  </thead>\n",
              "  <tbody>\n",
              "    <tr>\n",
              "      <th>count</th>\n",
              "      <td>511.000000</td>\n",
              "      <td>511.000000</td>\n",
              "      <td>511.0</td>\n",
              "    </tr>\n",
              "    <tr>\n",
              "      <th>mean</th>\n",
              "      <td>30.244618</td>\n",
              "      <td>3.352250</td>\n",
              "      <td>3.0</td>\n",
              "    </tr>\n",
              "    <tr>\n",
              "      <th>std</th>\n",
              "      <td>6.943811</td>\n",
              "      <td>2.049675</td>\n",
              "      <td>0.0</td>\n",
              "    </tr>\n",
              "    <tr>\n",
              "      <th>min</th>\n",
              "      <td>16.000000</td>\n",
              "      <td>0.000000</td>\n",
              "      <td>3.0</td>\n",
              "    </tr>\n",
              "    <tr>\n",
              "      <th>25%</th>\n",
              "      <td>25.000000</td>\n",
              "      <td>2.000000</td>\n",
              "      <td>3.0</td>\n",
              "    </tr>\n",
              "    <tr>\n",
              "      <th>50%</th>\n",
              "      <td>29.000000</td>\n",
              "      <td>3.000000</td>\n",
              "      <td>3.0</td>\n",
              "    </tr>\n",
              "    <tr>\n",
              "      <th>75%</th>\n",
              "      <td>35.000000</td>\n",
              "      <td>4.000000</td>\n",
              "      <td>3.0</td>\n",
              "    </tr>\n",
              "    <tr>\n",
              "      <th>max</th>\n",
              "      <td>49.000000</td>\n",
              "      <td>16.000000</td>\n",
              "      <td>3.0</td>\n",
              "    </tr>\n",
              "  </tbody>\n",
              "</table>\n",
              "</div>"
            ],
            "text/plain": [
              "       Wife's_age  Number_of_children_ever_born  Contraceptive_method_used\n",
              "count  511.000000                    511.000000                      511.0\n",
              "mean    30.244618                      3.352250                        3.0\n",
              "std      6.943811                      2.049675                        0.0\n",
              "min     16.000000                      0.000000                        3.0\n",
              "25%     25.000000                      2.000000                        3.0\n",
              "50%     29.000000                      3.000000                        3.0\n",
              "75%     35.000000                      4.000000                        3.0\n",
              "max     49.000000                     16.000000                        3.0"
            ]
          },
          "metadata": {
            "tags": []
          },
          "execution_count": 7
        }
      ]
    },
    {
      "cell_type": "code",
      "metadata": {
        "id": "C_c1jV2oq5Sf",
        "colab_type": "code",
        "outputId": "d33847dc-d17b-4685-e451-dfce27a9648f",
        "colab": {
          "base_uri": "https://localhost:8080/",
          "height": 806
        }
      },
      "source": [
        "#Look at graph where does the wife's age affect the type of contraceptive \n",
        "\n",
        "sns.lmplot(x= \"Wife's_age\", y=\"Number_of_children_ever_born\", data=contradf, fit_reg=False, hue=\"Contraceptive_method_used\",\n",
        "           legend=False,markers=[\"o\", \"x\", \"*\",] )\n",
        "plt.legend(loc=\"best\")\n",
        "plt.title(\"Type of Contraceptive based on Age and Offspring\");\n",
        "sns.jointplot(x=\"Wife's_age\", y=\"Number_of_children_ever_born\", data=wcOne);"
      ],
      "execution_count": 0,
      "outputs": [
        {
          "output_type": "display_data",
          "data": {
            "image/png": "[encoded data removed]",
            "text/plain": [
              "<Figure size 360x360 with 1 Axes>"
            ]
          },
          "metadata": {
            "tags": []
          }
        },
        {
          "output_type": "display_data",
          "data": {
            "image/png": "[encoded data removed]",
            "text/plain": [
              "<Figure size 432x432 with 3 Axes>"
            ]
          },
          "metadata": {
            "tags": []
          }
        }
      ]
    },
    {
      "cell_type": "code",
      "metadata": {
        "id": "IYmuNUVEf5qW",
        "colab_type": "code",
        "outputId": "e79df6f9-84b7-49e8-a5fa-fac1a91d89c2",
        "colab": {
          "base_uri": "https://localhost:8080/",
          "height": 443
        }
      },
      "source": [
        "#KDE for ContraOne  \n",
        "\n",
        "\n",
        "grid = sns.jointplot(x=\"Wife's_age\", y=\"Number_of_children_ever_born\", data=wcOne, kind=\"kde\",color=\"blue\", )\n",
        "\n",
        "grid.fig.subplots_adjust(top=0.93)\n",
        "grid.fig.suptitle('No use of contraceptive', \n",
        "              fontsize=14, \n",
        "              fontweight='bold');\n",
        "grid.savefig(\"No Use of Contraceptive\")"
      ],
      "execution_count": 0,
      "outputs": [
        {
          "output_type": "display_data",
          "data": {
            "image/png": "[encoded data removed]",
            "text/plain": [
              "<Figure size 432x432 with 3 Axes>"
            ]
          },
          "metadata": {
            "tags": []
          }
        }
      ]
    },
    {
      "cell_type": "code",
      "metadata": {
        "id": "m_vvkxdEzdG7",
        "colab_type": "code",
        "outputId": "9144dc39-53d4-4d77-bbfc-043cabc0f450",
        "colab": {
          "base_uri": "https://localhost:8080/",
          "height": 443
        }
      },
      "source": [
        "grid = sns.jointplot(x=\"Wife's_age\", y=\"Number_of_children_ever_born\", data=wcTwo, kind=\"kde\", ylim=(-2,14))\n",
        "\n",
        "grid.fig.subplots_adjust(top=0.93)\n",
        "grid.fig.suptitle('Short-Term Contraceptive', \n",
        "              fontsize=14, \n",
        "              fontweight='bold');\n",
        "grid.savefig(\"Short-Term Contraceptive\")"
      ],
      "execution_count": 0,
      "outputs": [
        {
          "output_type": "display_data",
          "data": {
            "image/png": "[encoded data removed]",
            "text/plain": [
              "<Figure size 432x432 with 3 Axes>"
            ]
          },
          "metadata": {
            "tags": []
          }
        }
      ]
    },
    {
      "cell_type": "code",
      "metadata": {
        "id": "VN7Ctxol-ErF",
        "colab_type": "code",
        "outputId": "6d2efff1-7eb9-4f12-ba4e-0c6e5a5621c1",
        "colab": {
          "base_uri": "https://localhost:8080/",
          "height": 443
        }
      },
      "source": [
        "grid = sns.jointplot(x=\"Wife's_age\", y=\"Number_of_children_ever_born\", data=wcThree, kind=\"kde\", color=\"red\", ylim=(-2,14))\n",
        "\n",
        "grid.fig.subplots_adjust(top=0.93)\n",
        "grid.fig.suptitle('Long-Term Contraceptive', \n",
        "              fontsize=14, \n",
        "              fontweight='bold');\n",
        "grid.savefig(\"Long-Term Contraceptive\")"
      ],
      "execution_count": 0,
      "outputs": [
        {
          "output_type": "display_data",
          "data": {
            "image/png": "[encoded data removed]",
            "text/plain": [
              "<Figure size 432x432 with 3 Axes>"
            ]
          },
          "metadata": {
            "tags": []
          }
        }
      ]
    },
    {
      "cell_type": "code",
      "metadata": {
        "id": "Q9I_lOHg-vh1",
        "colab_type": "code",
        "colab": {}
      },
      "source": [
        "# Finish Medium Post\n",
        "# Write Short summary\n",
        "# Upload to github and git hub pages\n",
        "\n"
      ],
      "execution_count": 0,
      "outputs": []
    },
    {
      "cell_type": "markdown",
      "metadata": {
        "id": "iuiQSqVpAh9D",
        "colab_type": "text"
      },
      "source": [
        "Can the age of a wife and the number children she has given birth to affect the type of contraceptive she would like use? Well ,using the data from UC irvine's database, I looked at 1500 data values from wives' that chose to either not use a contraceptive, use a short-term contraceptive, or use a long term contraceptive. Creating density plots for each choice I came to a conclusion that when looking at just the age and children, younger wives move toward a long term contraceptive over the other two choices.   "
      ]
    }
  ]
}