{
  "nbformat": 4,
  "nbformat_minor": 0,
  "metadata": {
    "colab": {
      "name": "Contraceptive Project.ipynb",
      "version": "0.3.2",
      "provenance": [],
      "include_colab_link": true
    },
    "kernelspec": {
      "name": "python3",
      "display_name": "Python 3"
    }
  },
  "cells": [
    {
      "cell_type": "markdown",
      "metadata": {
        "id": "view-in-github",
        "colab_type": "text"
      },
      "source": [
        "<a href=\"https://colab.research.google.com/github/nvisagan/Project1/blob/master/Contraceptive_Project.ipynb\" target=\"_parent\"><img src=\"https://colab.research.google.com/assets/colab-badge.svg\" alt=\"Open In Colab\"/></a>"
      ]
    },
    {
      "cell_type": "markdown",
      "metadata": {
        "id": "s7ig_raVPr7n",
        "colab_type": "text"
      },
      "source": [
        "# Delivarables\n",
        "1. Blog post\n",
        "Required\n",
        "\n",
        "Choose your own topic and data.\n",
        "Write a blog post with at least two data visualizations, to communicate insights on your topic.\n",
        "Publish your post on Medium or your portfolio site.\n",
        "Don’t use data from Kaggle competitions or popular “toy” datasets.\n",
        "\n",
        "2. Code\n",
        "Required\n",
        "\n",
        "Create Python notebook(s) to wrangle, analyze, and visualize your data.\n",
        "Push your notebook(s) to your GitHub.\n",
        "Recommended\n",
        "\n",
        "Keep it simple. Don’t use machine learning. (You’ll do this in future projects!)\n",
        "\n",
        "3. Short summary\n",
        "Required\n",
        "\n",
        "Describe your project in 280 characters or less.\n",
        "Choose one data visualization (static image or animated gif) from your blog post.\n",
        "Annotate your visualization so it’s understandable on its own, without reading your blog post.\n",
        "Recommended\n",
        "\n",
        "Share your short project summary on Twitter or LinkedIn, and link to your blog post.\n",
        "\n",
        "4. Portfolio\n",
        "Required\n",
        "\n",
        "Add your short summary to your portfolio site.\n",
        "Link from your portfolio site to your blog post and code.\n",
        "Recommended\n",
        "\n",
        "Host your site with GitHub Pages.\n",
        "Include your name, bio, and contact info on your site."
      ]
    },
    {
      "cell_type": "code",
      "metadata": {
        "id": "Za1m-kdvRR8e",
        "colab_type": "code",
        "colab": {}
      },
      "source": [
        "import pandas as pd\n",
        "import matplotlib as plt\n",
        "import seaborn as sns "
      ],
      "execution_count": 0,
      "outputs": []
    },
    {
      "cell_type": "code",
      "metadata": {
        "id": "dh8XBcvqPkU9",
        "colab_type": "code",
        "outputId": "3d667819-b63e-4143-d0c4-0cbe39b8ffc1",
        "colab": {
          "base_uri": "https://localhost:8080/",
          "height": 221
        }
      },
      "source": [
        "# Load Data \n",
        "url = \"https://archive.ics.uci.edu/ml/machine-learning-databases/cmc/cmc.data\"\n",
        "\n",
        "#Header need to be fixed \n",
        "column_headers = [\"Wife's age\", \"Wife's education\",\n",
        "                  \"Husband's education\", \"Number of children ever born\",\n",
        "                  \"Wife's religion\", \"Wife's now working?\",\n",
        "                  \"Husband's occupation\",\"Standard-of-living index\", \n",
        "                  \"Media exposure\",\"Contraceptive method used\",\n",
        "                  \"Missing Attribute Values\"                 \n",
        "]\n",
        "\n",
        "contraceptivedf = pd.read_csv(url, names=column_headers)\n",
        "contraceptivedf.head()"
      ],
      "execution_count": 0,
      "outputs": [
        {
          "output_type": "execute_result",
          "data": {
            "text/html": [
              "<div>\n",
              "<style scoped>\n",
              "    .dataframe tbody tr th:only-of-type {\n",
              "        vertical-align: middle;\n",
              "    }\n",
              "\n",
              "    .dataframe tbody tr th {\n",
              "        vertical-align: top;\n",
              "    }\n",
              "\n",
              "    .dataframe thead th {\n",
              "        text-align: right;\n",
              "    }\n",
              "</style>\n",
              "<table border=\"1\" class=\"dataframe\">\n",
              "  <thead>\n",
              "    <tr style=\"text-align: right;\">\n",
              "      <th></th>\n",
              "      <th>Wife's age</th>\n",
              "      <th>Wife's education</th>\n",
              "      <th>Husband's education</th>\n",
              "      <th>Number of children ever born</th>\n",
              "      <th>Wife's religion</th>\n",
              "      <th>Wife's now working?</th>\n",
              "      <th>Husband's occupation</th>\n",
              "      <th>Standard-of-living index</th>\n",
              "      <th>Media exposure</th>\n",
              "      <th>Contraceptive method used</th>\n",
              "      <th>Missing Attribute Values</th>\n",
              "    </tr>\n",
              "  </thead>\n",
              "  <tbody>\n",
              "    <tr>\n",
              "      <th>0</th>\n",
              "      <td>24</td>\n",
              "      <td>2</td>\n",
              "      <td>3</td>\n",
              "      <td>3</td>\n",
              "      <td>1</td>\n",
              "      <td>1</td>\n",
              "      <td>2</td>\n",
              "      <td>3</td>\n",
              "      <td>0</td>\n",
              "      <td>1</td>\n",
              "      <td>NaN</td>\n",
              "    </tr>\n",
              "    <tr>\n",
              "      <th>1</th>\n",
              "      <td>45</td>\n",
              "      <td>1</td>\n",
              "      <td>3</td>\n",
              "      <td>10</td>\n",
              "      <td>1</td>\n",
              "      <td>1</td>\n",
              "      <td>3</td>\n",
              "      <td>4</td>\n",
              "      <td>0</td>\n",
              "      <td>1</td>\n",
              "      <td>NaN</td>\n",
              "    </tr>\n",
              "    <tr>\n",
              "      <th>2</th>\n",
              "      <td>43</td>\n",
              "      <td>2</td>\n",
              "      <td>3</td>\n",
              "      <td>7</td>\n",
              "      <td>1</td>\n",
              "      <td>1</td>\n",
              "      <td>3</td>\n",
              "      <td>4</td>\n",
              "      <td>0</td>\n",
              "      <td>1</td>\n",
              "      <td>NaN</td>\n",
              "    </tr>\n",
              "    <tr>\n",
              "      <th>3</th>\n",
              "      <td>42</td>\n",
              "      <td>3</td>\n",
              "      <td>2</td>\n",
              "      <td>9</td>\n",
              "      <td>1</td>\n",
              "      <td>1</td>\n",
              "      <td>3</td>\n",
              "      <td>3</td>\n",
              "      <td>0</td>\n",
              "      <td>1</td>\n",
              "      <td>NaN</td>\n",
              "    </tr>\n",
              "    <tr>\n",
              "      <th>4</th>\n",
              "      <td>36</td>\n",
              "      <td>3</td>\n",
              "      <td>3</td>\n",
              "      <td>8</td>\n",
              "      <td>1</td>\n",
              "      <td>1</td>\n",
              "      <td>3</td>\n",
              "      <td>2</td>\n",
              "      <td>0</td>\n",
              "      <td>1</td>\n",
              "      <td>NaN</td>\n",
              "    </tr>\n",
              "  </tbody>\n",
              "</table>\n",
              "</div>"
            ],
            "text/plain": [
              "   Wife's age  ...  Missing Attribute Values\n",
              "0          24  ...                       NaN\n",
              "1          45  ...                       NaN\n",
              "2          43  ...                       NaN\n",
              "3          42  ...                       NaN\n",
              "4          36  ...                       NaN\n",
              "\n",
              "[5 rows x 11 columns]"
            ]
          },
          "metadata": {
            "tags": []
          },
          "execution_count": 10
        }
      ]
    },
    {
      "cell_type": "code",
      "metadata": {
        "id": "0ikosXvGTajz",
        "colab_type": "code",
        "outputId": "e4f45264-8341-4f42-a9c9-835e57f43adb",
        "colab": {
          "base_uri": "https://localhost:8080/",
          "height": 314
        }
      },
      "source": [
        "contraceptivedf.describe()"
      ],
      "execution_count": 0,
      "outputs": [
        {
          "output_type": "execute_result",
          "data": {
            "text/html": [
              "<div>\n",
              "<style scoped>\n",
              "    .dataframe tbody tr th:only-of-type {\n",
              "        vertical-align: middle;\n",
              "    }\n",
              "\n",
              "    .dataframe tbody tr th {\n",
              "        vertical-align: top;\n",
              "    }\n",
              "\n",
              "    .dataframe thead th {\n",
              "        text-align: right;\n",
              "    }\n",
              "</style>\n",
              "<table border=\"1\" class=\"dataframe\">\n",
              "  <thead>\n",
              "    <tr style=\"text-align: right;\">\n",
              "      <th></th>\n",
              "      <th>Wife's age</th>\n",
              "      <th>Wife's education</th>\n",
              "      <th>Husband's education</th>\n",
              "      <th>Number of children ever born</th>\n",
              "      <th>Wife's religion</th>\n",
              "      <th>Wife's now working?</th>\n",
              "      <th>Husband's occupation</th>\n",
              "      <th>Standard-of-living index</th>\n",
              "      <th>Media exposure</th>\n",
              "      <th>Contraceptive method used</th>\n",
              "      <th>Missing Attribute Values</th>\n",
              "    </tr>\n",
              "  </thead>\n",
              "  <tbody>\n",
              "    <tr>\n",
              "      <th>count</th>\n",
              "      <td>1473.000000</td>\n",
              "      <td>1473.000000</td>\n",
              "      <td>1473.000000</td>\n",
              "      <td>1473.000000</td>\n",
              "      <td>1473.000000</td>\n",
              "      <td>1473.000000</td>\n",
              "      <td>1473.000000</td>\n",
              "      <td>1473.000000</td>\n",
              "      <td>1473.000000</td>\n",
              "      <td>1473.000000</td>\n",
              "      <td>0.0</td>\n",
              "    </tr>\n",
              "    <tr>\n",
              "      <th>mean</th>\n",
              "      <td>32.538357</td>\n",
              "      <td>2.958588</td>\n",
              "      <td>3.429735</td>\n",
              "      <td>3.261371</td>\n",
              "      <td>0.850645</td>\n",
              "      <td>0.749491</td>\n",
              "      <td>2.137814</td>\n",
              "      <td>3.133741</td>\n",
              "      <td>0.073999</td>\n",
              "      <td>1.919891</td>\n",
              "      <td>NaN</td>\n",
              "    </tr>\n",
              "    <tr>\n",
              "      <th>std</th>\n",
              "      <td>8.227245</td>\n",
              "      <td>1.014994</td>\n",
              "      <td>0.816349</td>\n",
              "      <td>2.358549</td>\n",
              "      <td>0.356559</td>\n",
              "      <td>0.433453</td>\n",
              "      <td>0.864857</td>\n",
              "      <td>0.976161</td>\n",
              "      <td>0.261858</td>\n",
              "      <td>0.876376</td>\n",
              "      <td>NaN</td>\n",
              "    </tr>\n",
              "    <tr>\n",
              "      <th>min</th>\n",
              "      <td>16.000000</td>\n",
              "      <td>1.000000</td>\n",
              "      <td>1.000000</td>\n",
              "      <td>0.000000</td>\n",
              "      <td>0.000000</td>\n",
              "      <td>0.000000</td>\n",
              "      <td>1.000000</td>\n",
              "      <td>1.000000</td>\n",
              "      <td>0.000000</td>\n",
              "      <td>1.000000</td>\n",
              "      <td>NaN</td>\n",
              "    </tr>\n",
              "    <tr>\n",
              "      <th>25%</th>\n",
              "      <td>26.000000</td>\n",
              "      <td>2.000000</td>\n",
              "      <td>3.000000</td>\n",
              "      <td>1.000000</td>\n",
              "      <td>1.000000</td>\n",
              "      <td>0.000000</td>\n",
              "      <td>1.000000</td>\n",
              "      <td>3.000000</td>\n",
              "      <td>0.000000</td>\n",
              "      <td>1.000000</td>\n",
              "      <td>NaN</td>\n",
              "    </tr>\n",
              "    <tr>\n",
              "      <th>50%</th>\n",
              "      <td>32.000000</td>\n",
              "      <td>3.000000</td>\n",
              "      <td>4.000000</td>\n",
              "      <td>3.000000</td>\n",
              "      <td>1.000000</td>\n",
              "      <td>1.000000</td>\n",
              "      <td>2.000000</td>\n",
              "      <td>3.000000</td>\n",
              "      <td>0.000000</td>\n",
              "      <td>2.000000</td>\n",
              "      <td>NaN</td>\n",
              "    </tr>\n",
              "    <tr>\n",
              "      <th>75%</th>\n",
              "      <td>39.000000</td>\n",
              "      <td>4.000000</td>\n",
              "      <td>4.000000</td>\n",
              "      <td>4.000000</td>\n",
              "      <td>1.000000</td>\n",
              "      <td>1.000000</td>\n",
              "      <td>3.000000</td>\n",
              "      <td>4.000000</td>\n",
              "      <td>0.000000</td>\n",
              "      <td>3.000000</td>\n",
              "      <td>NaN</td>\n",
              "    </tr>\n",
              "    <tr>\n",
              "      <th>max</th>\n",
              "      <td>49.000000</td>\n",
              "      <td>4.000000</td>\n",
              "      <td>4.000000</td>\n",
              "      <td>16.000000</td>\n",
              "      <td>1.000000</td>\n",
              "      <td>1.000000</td>\n",
              "      <td>4.000000</td>\n",
              "      <td>4.000000</td>\n",
              "      <td>1.000000</td>\n",
              "      <td>3.000000</td>\n",
              "      <td>NaN</td>\n",
              "    </tr>\n",
              "  </tbody>\n",
              "</table>\n",
              "</div>"
            ],
            "text/plain": [
              "        Wife's age  ...  Missing Attribute Values\n",
              "count  1473.000000  ...                       0.0\n",
              "mean     32.538357  ...                       NaN\n",
              "std       8.227245  ...                       NaN\n",
              "min      16.000000  ...                       NaN\n",
              "25%      26.000000  ...                       NaN\n",
              "50%      32.000000  ...                       NaN\n",
              "75%      39.000000  ...                       NaN\n",
              "max      49.000000  ...                       NaN\n",
              "\n",
              "[8 rows x 11 columns]"
            ]
          },
          "metadata": {
            "tags": []
          },
          "execution_count": 11
        }
      ]
    },
    {
      "cell_type": "code",
      "metadata": {
        "id": "amibtC1ueU7P",
        "colab_type": "code",
        "outputId": "c2ef8254-28c2-45e8-a6a9-1f1a74584545",
        "colab": {
          "base_uri": "https://localhost:8080/",
          "height": 286
        }
      },
      "source": [
        "# Lets make some graphs? \n",
        "# What should we look at?\n",
        "contraceptivedf.plot()"
      ],
      "execution_count": 0,
      "outputs": [
        {
          "output_type": "execute_result",
          "data": {
            "text/plain": [
              "<matplotlib.axes._subplots.AxesSubplot at 0x7f7d910b0550>"
            ]
          },
          "metadata": {
            "tags": []
          },
          "execution_count": 13
        },
        {
          "output_type": "display_data",
          "data": {
            "image/png": "[encoded data removed]",
            "text/plain": [
              "<Figure size 432x288 with 1 Axes>"
            ]
          },
          "metadata": {
            "tags": []
          }
        }
      ]
    },
    {
      "cell_type": "code",
      "metadata": {
        "id": "IYmuNUVEf5qW",
        "colab_type": "code",
        "colab": {}
      },
      "source": [
        ""
      ],
      "execution_count": 0,
      "outputs": []
    }
  ]
}